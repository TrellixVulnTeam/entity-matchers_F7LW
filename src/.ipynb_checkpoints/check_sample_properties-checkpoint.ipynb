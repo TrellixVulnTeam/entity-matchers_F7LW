{
 "cells": [
  {
   "cell_type": "code",
   "execution_count": 53,
   "metadata": {},
   "outputs": [],
   "source": [
    "import networkx as nx\n",
    "from collections import defaultdict, Counter\n",
    "import matplotlib.pyplot as plt\n",
    "from tqdm.notebook import tqdm\n",
    "import numpy as np"
   ]
  },
  {
   "cell_type": "code",
   "execution_count": 54,
   "metadata": {},
   "outputs": [],
   "source": [
    "edges = defaultdict(set)"
   ]
  },
  {
   "cell_type": "code",
   "execution_count": 55,
   "metadata": {},
   "outputs": [
    {
     "data": {
      "application/vnd.jupyter.widget-view+json": {
       "model_id": "dac4281a1e464de5b0d75a37881b98b7",
       "version_major": 2,
       "version_minor": 0
      },
      "text/plain": [
       "HBox(children=(FloatProgress(value=1.0, bar_style='info', max=1.0), HTML(value='')))"
      ]
     },
     "metadata": {},
     "output_type": "display_data"
    },
    {
     "name": "stdout",
     "output_type": "stream",
     "text": [
      "\n"
     ]
    }
   ],
   "source": [
    "with open(\"../datasets/Sampling_tests/DBP_en_YG_en_100K_V1/rel_triples_1\") as f:\n",
    "    for line in tqdm(f):\n",
    "        (h,r,t) = line.rstrip(\"\\n\").rstrip().split(\"\\t\")\n",
    "        edges[h].add(t)"
   ]
  },
  {
   "cell_type": "code",
   "execution_count": 56,
   "metadata": {},
   "outputs": [
    {
     "data": {
      "text/plain": [
       "{'http://dbpedia.org/resource/Louiseville',\n",
       " 'http://dbpedia.org/resource/Saint-Didace,_Quebec'}"
      ]
     },
     "execution_count": 56,
     "metadata": {},
     "output_type": "execute_result"
    }
   ],
   "source": [
    "edges[\"http://dbpedia.org/resource/Quebec_Route_349\"]"
   ]
  },
  {
   "cell_type": "code",
   "execution_count": 57,
   "metadata": {},
   "outputs": [],
   "source": [
    "KG = nx.DiGraph(edges)"
   ]
  },
  {
   "cell_type": "code",
   "execution_count": 58,
   "metadata": {},
   "outputs": [
    {
     "data": {
      "text/plain": [
       "AtlasView({'http://dbpedia.org/resource/Louiseville': {}, 'http://dbpedia.org/resource/Saint-Didace,_Quebec': {}})"
      ]
     },
     "execution_count": 58,
     "metadata": {},
     "output_type": "execute_result"
    }
   ],
   "source": [
    "KG.adj[\"http://dbpedia.org/resource/Quebec_Route_349\"]"
   ]
  },
  {
   "cell_type": "code",
   "execution_count": 59,
   "metadata": {},
   "outputs": [],
   "source": [
    "for n in nx.isolates(KG):\n",
    "    print(n)"
   ]
  },
  {
   "cell_type": "code",
   "execution_count": 60,
   "metadata": {},
   "outputs": [],
   "source": [
    "for n, deg in KG.degree():\n",
    "    if deg == 0:\n",
    "        print(n)"
   ]
  },
  {
   "cell_type": "code",
   "execution_count": 61,
   "metadata": {},
   "outputs": [
    {
     "name": "stdout",
     "output_type": "stream",
     "text": [
      "95782\n"
     ]
    }
   ],
   "source": [
    "c = 0\n",
    "for n, deg in KG.in_degree():\n",
    "    if deg == 0:\n",
    "        c+=1\n",
    "print(c)"
   ]
  },
  {
   "cell_type": "code",
   "execution_count": 62,
   "metadata": {},
   "outputs": [
    {
     "name": "stdout",
     "output_type": "stream",
     "text": [
      "14948\n"
     ]
    }
   ],
   "source": [
    "c = 0\n",
    "for n, deg in KG.out_degree():\n",
    "    if deg == 0:\n",
    "        c+=1\n",
    "print(c)"
   ]
  },
  {
   "cell_type": "markdown",
   "metadata": {},
   "source": [
    "So 0 isolated entities! Good"
   ]
  },
  {
   "cell_type": "code",
   "execution_count": 63,
   "metadata": {},
   "outputs": [
    {
     "data": {
      "image/png": "[encoded data removed]",
      "text/plain": [
       "<Figure size 432x288 with 1 Axes>"
      ]
     },
     "metadata": {
      "needs_background": "light"
     },
     "output_type": "display_data"
    }
   ],
   "source": [
    "degree_sequence = sorted([d for n, d in KG.degree()], reverse=True)  # degree sequence\n",
    "degreeCount = Counter(degree_sequence)\n",
    "deg, cnt = zip(*degreeCount.items())\n",
    "\n",
    "fig, ax = plt.subplots()\n",
    "plt.bar(deg, cnt)\n",
    "\n",
    "plt.title(\"Degree Histogram\")\n",
    "plt.ylabel(\"Count\")\n",
    "plt.xlabel(\"Degree\")\n",
    "plt.xscale(\"log\")"
   ]
  },
  {
   "cell_type": "code",
   "execution_count": 64,
   "metadata": {},
   "outputs": [],
   "source": [
    "cluster_coeffs = nx.clustering(KG)\n",
    "cluster_nums = [v for _,v in cluster_coeffs.items()]"
   ]
  },
  {
   "cell_type": "code",
   "execution_count": 65,
   "metadata": {},
   "outputs": [
    {
     "data": {
      "text/plain": [
       "0.0769815140715789"
      ]
     },
     "execution_count": 65,
     "metadata": {},
     "output_type": "execute_result"
    }
   ],
   "source": [
    "mean_coeff = np.mean(np.array(cluster_nums))\n",
    "mean_coeff"
   ]
  },
  {
   "cell_type": "code",
   "execution_count": 66,
   "metadata": {},
   "outputs": [
    {
     "data": {
      "text/plain": [
       "0.07698151407157884"
      ]
     },
     "execution_count": 66,
     "metadata": {},
     "output_type": "execute_result"
    }
   ],
   "source": [
    "nx.average_clustering(KG)"
   ]
  },
  {
   "cell_type": "code",
   "execution_count": 67,
   "metadata": {},
   "outputs": [
    {
     "data": {
      "text/plain": [
       "4.731429007866799"
      ]
     },
     "execution_count": 67,
     "metadata": {},
     "output_type": "execute_result"
    }
   ],
   "source": [
    "c = 0\n",
    "for n, deg in KG.degree():\n",
    "    c+=deg\n",
    "avg = c/len(KG)\n",
    "avg"
   ]
  },
  {
   "cell_type": "code",
   "execution_count": 68,
   "metadata": {},
   "outputs": [],
   "source": [
    "pr = nx.pagerank(KG, alpha=0.85)"
   ]
  },
  {
   "cell_type": "code",
   "execution_count": 26,
   "metadata": {},
   "outputs": [
    {
     "data": {
      "text/plain": [
       "[('http://dbpedia.org/resource/London', 0.02013222691303172),\n",
       " ('http://dbpedia.org/resource/Spain', 0.016064804958695847),\n",
       " ('http://dbpedia.org/resource/Sweden', 0.011865956530605447),\n",
       " ('http://dbpedia.org/resource/Austria', 0.003907011112297637),\n",
       " ('http://dbpedia.org/resource/Russian_language', 0.0029077041377599737),\n",
       " ('http://dbpedia.org/resource/Michigan', 0.002736478864844134),\n",
       " ('http://dbpedia.org/resource/New_Jersey', 0.002712002583910631),\n",
       " ('http://dbpedia.org/resource/Wales', 0.0023574091478487467),\n",
       " ('http://dbpedia.org/resource/Toronto', 0.0023289394951745237),\n",
       " ('http://dbpedia.org/resource/Moscow', 0.002186775756986176),\n",
       " ('http://dbpedia.org/resource/San_Francisco', 0.0021336081860911906),\n",
       " ('http://dbpedia.org/resource/Madras_Presidency', 0.0019724191654905314),\n",
       " ('http://dbpedia.org/resource/Alberta', 0.001659512735824699),\n",
       " ('http://dbpedia.org/resource/North_Holland', 0.0016348007136087544),\n",
       " ('http://dbpedia.org/resource/Detroit', 0.0015790397610312863),\n",
       " ('http://dbpedia.org/resource/Finland', 0.0015532744923735136),\n",
       " ('http://dbpedia.org/resource/New_York', 0.0015487680639688034),\n",
       " ('http://dbpedia.org/resource/Houston', 0.001534181635240493),\n",
       " ('http://dbpedia.org/resource/Belarus', 0.001507971122309413),\n",
       " ('http://dbpedia.org/resource/Kerman_Province', 0.0014775483369175201)]"
      ]
     },
     "execution_count": 26,
     "metadata": {},
     "output_type": "execute_result"
    }
   ],
   "source": [
    "sort_pr = sorted(pr.items(), key = lambda p: p[1], reverse=True)\n",
    "sort_pr[:20]"
   ]
  },
  {
   "cell_type": "code",
   "execution_count": 69,
   "metadata": {},
   "outputs": [
    {
     "data": {
      "text/plain": [
       "[('http://dbpedia.org/resource/Quebec_Route_349', 2.867792203778063e-06),\n",
       " ('http://dbpedia.org/resource/Neil_Young_Journeys', 2.867792203778063e-06),\n",
       " ('http://dbpedia.org/resource/David_Timor', 2.867792203778063e-06),\n",
       " ('http://dbpedia.org/resource/Rainbow_Lake,_Alberta', 2.867792203778063e-06),\n",
       " ('http://dbpedia.org/resource/Phil_Jackson_Ibargüen', 2.867792203778063e-06),\n",
       " ('http://dbpedia.org/resource/Torsh_Ab-e_Pain', 2.867792203778063e-06),\n",
       " ('http://dbpedia.org/resource/Amer_Jukan', 2.867792203778063e-06),\n",
       " ('http://dbpedia.org/resource/Ryoji_Yamanaka', 2.867792203778063e-06),\n",
       " ('http://dbpedia.org/resource/André_Moritz', 2.867792203778063e-06),\n",
       " ('http://dbpedia.org/resource/Bantunding', 2.867792203778063e-06),\n",
       " ('http://dbpedia.org/resource/High_Speed_(1932_film)', 2.867792203778063e-06),\n",
       " ('http://dbpedia.org/resource/Matt_Vonk', 2.867792203778063e-06),\n",
       " ('http://dbpedia.org/resource/Javad_Nekounam', 2.867792203778063e-06),\n",
       " ('http://dbpedia.org/resource/Theeradha_Vilaiyattu_Pillai',\n",
       "  2.867792203778063e-06),\n",
       " ('http://dbpedia.org/resource/Matías_Ballini', 2.867792203778063e-06),\n",
       " ('http://dbpedia.org/resource/Simon_Yeo', 2.867792203778063e-06),\n",
       " ('http://dbpedia.org/resource/Target_(2010_film)', 2.867792203778063e-06),\n",
       " ('http://dbpedia.org/resource/Narongchai_Vachiraban', 2.867792203778063e-06),\n",
       " ('http://dbpedia.org/resource/The_Best_Damn_Thing_(song)',\n",
       "  2.867792203778063e-06),\n",
       " ('http://dbpedia.org/resource/City_of_Beautiful_Nonsense_(1935_film)',\n",
       "  2.867792203778063e-06)]"
      ]
     },
     "execution_count": 69,
     "metadata": {},
     "output_type": "execute_result"
    }
   ],
   "source": [
    "sort_pr = sorted(pr.items(), key = lambda p: p[1], reverse=False)\n",
    "sort_pr[:20]"
   ]
  },
  {
   "cell_type": "markdown",
   "metadata": {},
   "source": [
    "YAGO"
   ]
  },
  {
   "cell_type": "code",
   "execution_count": 27,
   "metadata": {},
   "outputs": [],
   "source": [
    "edges = defaultdict(set)"
   ]
  },
  {
   "cell_type": "code",
   "execution_count": 28,
   "metadata": {},
   "outputs": [
    {
     "data": {
      "application/vnd.jupyter.widget-view+json": {
       "model_id": "d1ba9493bc5a4367802c6418ddee458f",
       "version_major": 2,
       "version_minor": 0
      },
      "text/plain": [
       "HBox(children=(FloatProgress(value=1.0, bar_style='info', max=1.0), HTML(value='')))"
      ]
     },
     "metadata": {},
     "output_type": "display_data"
    },
    {
     "name": "stdout",
     "output_type": "stream",
     "text": [
      "\n"
     ]
    }
   ],
   "source": [
    "with open(\"../datasets/Sampling_tests/DBP_en_YG_en_100K_V1/rel_triples_2\") as f:\n",
    "    for line in tqdm(f):\n",
    "        (h,r,t) = line.rstrip(\"\\n\").rstrip().split(\"\\t\")\n",
    "        edges[h].add(t)"
   ]
  },
  {
   "cell_type": "code",
   "execution_count": 30,
   "metadata": {},
   "outputs": [
    {
     "data": {
      "text/plain": [
       "{'AIK_Fotboll',\n",
       " 'Al-Orouba_SC',\n",
       " 'Assyriska_FF',\n",
       " 'Hammarby_Fotboll',\n",
       " 'IF_Brommapojkarna',\n",
       " 'Lillestrøm_SK',\n",
       " 'Sweden',\n",
       " 'Vejle_Boldklub',\n",
       " 'Örebro_SK'}"
      ]
     },
     "execution_count": 30,
     "metadata": {},
     "output_type": "execute_result"
    }
   ],
   "source": [
    "edges[\"Andreas_Haddad\"]"
   ]
  },
  {
   "cell_type": "code",
   "execution_count": 31,
   "metadata": {},
   "outputs": [],
   "source": [
    "KG = nx.DiGraph(edges)"
   ]
  },
  {
   "cell_type": "code",
   "execution_count": 32,
   "metadata": {},
   "outputs": [
    {
     "data": {
      "text/plain": [
       "AtlasView({'Al-Orouba_SC': {}, 'Örebro_SK': {}, 'IF_Brommapojkarna': {}, 'Assyriska_FF': {}, 'Lillestrøm_SK': {}, 'Sweden': {}, 'Hammarby_Fotboll': {}, 'AIK_Fotboll': {}, 'Vejle_Boldklub': {}})"
      ]
     },
     "execution_count": 32,
     "metadata": {},
     "output_type": "execute_result"
    }
   ],
   "source": [
    "KG.adj[\"Andreas_Haddad\"]"
   ]
  },
  {
   "cell_type": "code",
   "execution_count": 33,
   "metadata": {},
   "outputs": [],
   "source": [
    "for n in nx.isolates(KG):\n",
    "    print(n)"
   ]
  },
  {
   "cell_type": "code",
   "execution_count": 34,
   "metadata": {},
   "outputs": [],
   "source": [
    "for n, deg in KG.degree():\n",
    "    if deg == 0:\n",
    "        print(n)"
   ]
  },
  {
   "cell_type": "code",
   "execution_count": 35,
   "metadata": {},
   "outputs": [
    {
     "name": "stdout",
     "output_type": "stream",
     "text": [
      "90892\n"
     ]
    }
   ],
   "source": [
    "c = 0\n",
    "for n, deg in KG.in_degree():\n",
    "    if deg == 0:\n",
    "        c+=1\n",
    "print(c)"
   ]
  },
  {
   "cell_type": "code",
   "execution_count": 36,
   "metadata": {},
   "outputs": [
    {
     "name": "stdout",
     "output_type": "stream",
     "text": [
      "33222\n"
     ]
    }
   ],
   "source": [
    "c = 0\n",
    "for n, deg in KG.out_degree():\n",
    "    if deg == 0:\n",
    "        c+=1\n",
    "print(c)"
   ]
  },
  {
   "cell_type": "markdown",
   "metadata": {},
   "source": [
    "So 0 isolated entities! Good"
   ]
  },
  {
   "cell_type": "code",
   "execution_count": 37,
   "metadata": {},
   "outputs": [
    {
     "data": {
      "image/png": "[encoded data removed]",
      "text/plain": [
       "<Figure size 432x288 with 1 Axes>"
      ]
     },
     "metadata": {
      "needs_background": "light"
     },
     "output_type": "display_data"
    }
   ],
   "source": [
    "degree_sequence = sorted([d for n, d in KG.degree()], reverse=True)  # degree sequence\n",
    "degreeCount = Counter(degree_sequence)\n",
    "deg, cnt = zip(*degreeCount.items())\n",
    "\n",
    "fig, ax = plt.subplots()\n",
    "plt.bar(deg, cnt)\n",
    "\n",
    "plt.title(\"Degree Histogram\")\n",
    "plt.ylabel(\"Count\")\n",
    "plt.xlabel(\"Degree\")\n",
    "plt.xscale(\"log\")"
   ]
  },
  {
   "cell_type": "code",
   "execution_count": 38,
   "metadata": {},
   "outputs": [],
   "source": [
    "cluster_coeffs = nx.clustering(KG)\n",
    "cluster_nums = [v for _,v in cluster_coeffs.items()]"
   ]
  },
  {
   "cell_type": "code",
   "execution_count": 39,
   "metadata": {},
   "outputs": [
    {
     "data": {
      "text/plain": [
       "0.05463254033004389"
      ]
     },
     "execution_count": 39,
     "metadata": {},
     "output_type": "execute_result"
    }
   ],
   "source": [
    "mean_coeff = np.mean(np.array(cluster_nums))\n",
    "mean_coeff"
   ]
  },
  {
   "cell_type": "code",
   "execution_count": 40,
   "metadata": {},
   "outputs": [
    {
     "data": {
      "text/plain": [
       "0.054632540330043916"
      ]
     },
     "execution_count": 40,
     "metadata": {},
     "output_type": "execute_result"
    }
   ],
   "source": [
    "nx.average_clustering(KG)"
   ]
  },
  {
   "cell_type": "code",
   "execution_count": 41,
   "metadata": {},
   "outputs": [
    {
     "data": {
      "text/plain": [
       "4.910837482752415"
      ]
     },
     "execution_count": 41,
     "metadata": {},
     "output_type": "execute_result"
    }
   ],
   "source": [
    "c = 0\n",
    "for n, deg in KG.degree():\n",
    "    c+=deg\n",
    "avg = c/len(KG)\n",
    "avg"
   ]
  },
  {
   "cell_type": "code",
   "execution_count": 44,
   "metadata": {},
   "outputs": [],
   "source": [
    "pr = nx.pagerank(KG, alpha=0.85)"
   ]
  },
  {
   "cell_type": "code",
   "execution_count": 45,
   "metadata": {},
   "outputs": [
    {
     "data": {
      "text/plain": [
       "[('Andorra', 0.008396925620918275),\n",
       " ('Spain', 0.007843936576732165),\n",
       " ('Sweden', 0.005822889764265265),\n",
       " ('New_York', 0.003934826004927529),\n",
       " ('Africa', 0.0027775548768055156),\n",
       " ('Liechtenstein', 0.002494522463304759),\n",
       " ('Ukraine', 0.0023562615455639496),\n",
       " ('Finland', 0.002283477978820641),\n",
       " ('Andorra_la_Vella', 0.0022314036445506926),\n",
       " ('London', 0.0022160627500112987),\n",
       " ('North_West_England', 0.0021930695258978537),\n",
       " ('Malaysia', 0.0021532337804146522),\n",
       " ('Kerman_Province', 0.002082387706648136),\n",
       " ('Austria', 0.002029965377018829),\n",
       " ('North_East_England', 0.0018400911878821446),\n",
       " ('Michigan', 0.0016584744177731699),\n",
       " ('Peru', 0.0016006154757401605),\n",
       " ('Toronto', 0.0014582598038204676),\n",
       " ('New_Jersey', 0.0013574587204571535),\n",
       " ('Isfahan_Province', 0.001326650479782367)]"
      ]
     },
     "execution_count": 45,
     "metadata": {},
     "output_type": "execute_result"
    }
   ],
   "source": [
    "sort_pr = sorted(pr.items(), key = lambda p: p[1], reverse=True)\n",
    "sort_pr[:20]"
   ]
  },
  {
   "cell_type": "markdown",
   "metadata": {},
   "source": [
    "## Their method"
   ]
  },
  {
   "cell_type": "code",
   "execution_count": 46,
   "metadata": {},
   "outputs": [],
   "source": [
    "import time\n",
    "\n",
    "\n",
    "class PageRank:\n",
    "    def __init__(self, triples):\n",
    "        self.damping_factor = 0.85\n",
    "        self.max_iterations = 100\n",
    "        self.min_delta = 5e-21\n",
    "\n",
    "        self.triples = triples\n",
    "        self.link_adjacency_list = self._count_link_adjacency_with_weight()\n",
    "        self.entity_page_rank = self._compute_entity_page_rank()\n",
    "        page_rank = sorted(self.entity_page_rank.items(), key=lambda d: d[1], reverse=False)\n",
    "        print(\"Highest pageranks:\", page_rank[:50])\n",
    "        # ordered from the smallest to largest\n",
    "        self.page_rank = [e for (e, _) in page_rank]\n",
    "\n",
    "    def _compute_entity_page_rank(self):\n",
    "        start_time = time.time()\n",
    "        ents = set([e for (e, _, _) in self.triples]) | set([e for (_, _, e) in self.triples])\n",
    "        size = len(ents)\n",
    "        page_rank = {}\n",
    "        for e in ents:\n",
    "            page_rank[e] = 1.0/size\n",
    "\n",
    "        damping_value = (1.0 - self.damping_factor) / size\n",
    "\n",
    "        flag = False\n",
    "        iter_cnt = 0\n",
    "        for iter_cnt in range(self.max_iterations):\n",
    "            change = 0\n",
    "            for h, adjacency_list in self.link_adjacency_list.items():\n",
    "                rank = 0\n",
    "                neighbor_size = len(adjacency_list)\n",
    "                for t in adjacency_list:\n",
    "                    rank += self.damping_factor * (page_rank[t] / neighbor_size)\n",
    "                rank += damping_value\n",
    "                change += abs(page_rank[h] - rank)\n",
    "                page_rank[h] = rank\n",
    "\n",
    "            if change < self.min_delta:\n",
    "                flag = True\n",
    "                break\n",
    "\n",
    "        if flag:\n",
    "            print(\"\\tfinished in %s iterations!\" % (iter_cnt+1))\n",
    "        else:\n",
    "            print(\"\\tfinished out of 100 iterations!\", change)\n",
    "        print('\\trun time: %.2f s' % (time.time()-start_time))\n",
    "        return page_rank\n",
    "\n",
    "    def _count_link_adjacency_with_weight(self):\n",
    "        link_adjacency = {}\n",
    "        for (h, _, t) in self.triples:\n",
    "            adj_list = set()\n",
    "            if t in link_adjacency:\n",
    "                adj_list = link_adjacency[t]\n",
    "            adj_list.add(h)\n",
    "            link_adjacency[t] = adj_list\n",
    "        return link_adjacency"
   ]
  },
  {
   "cell_type": "code",
   "execution_count": 47,
   "metadata": {},
   "outputs": [
    {
     "data": {
      "application/vnd.jupyter.widget-view+json": {
       "model_id": "2a35ae6d9f2440e9b8c4474eeff96224",
       "version_major": 2,
       "version_minor": 0
      },
      "text/plain": [
       "HBox(children=(FloatProgress(value=1.0, bar_style='info', max=1.0), HTML(value='')))"
      ]
     },
     "metadata": {},
     "output_type": "display_data"
    },
    {
     "name": "stdout",
     "output_type": "stream",
     "text": [
      "\n"
     ]
    }
   ],
   "source": [
    "triples = set()\n",
    "with open(\"../datasets/Sampling_tests/DBP_en_YG_en_100K_V1/rel_triples_1\") as f:\n",
    "    for line in tqdm(f):\n",
    "        (h,r,t) = line.rstrip(\"\\n\").rstrip().split(\"\\t\")\n",
    "        triples.add((h,r,t))"
   ]
  },
  {
   "cell_type": "code",
   "execution_count": 48,
   "metadata": {},
   "outputs": [
    {
     "name": "stdout",
     "output_type": "stream",
     "text": [
      "\tfinished in 6 iterations!\n",
      "\trun time: 1.36 s\n",
      "Highest pageranks: [('http://dbpedia.org/resource/Sweden', 7.637668983426154e-06), ('http://dbpedia.org/resource/London', 7.637668983426169e-06), ('http://dbpedia.org/resource/Peru', 7.637668983426211e-06), ('http://dbpedia.org/resource/Finland', 7.637668983426215e-06), ('http://dbpedia.org/resource/Ardabil_Province', 7.637668983426223e-06), ('http://dbpedia.org/resource/Spain', 7.637668983426225e-06), ('http://dbpedia.org/resource/FK_Partizan', 7.637668983426225e-06), ('http://dbpedia.org/resource/New_Jersey', 7.637668983426232e-06), ('http://dbpedia.org/resource/Sauli_Niinistö', 7.637668983426235e-06), ('http://dbpedia.org/resource/Juha_Sipilä', 7.637668983426235e-06), ('http://dbpedia.org/resource/FK_Radnički_Niš', 7.637668983426237e-06), ('http://dbpedia.org/resource/Washington_Capitals', 7.637668983426237e-06), ('http://dbpedia.org/resource/Real_Valladolid', 7.637668983426238e-06), ('http://dbpedia.org/resource/Ukraine', 7.63766898342624e-06), ('http://dbpedia.org/resource/FC_Cartagena', 7.63766898342624e-06), ('http://dbpedia.org/resource/FC_Belshina_Bobruisk', 7.63766898342624e-06), ('http://dbpedia.org/resource/Moscow', 7.63766898342624e-06), ('http://dbpedia.org/resource/FC_Metalurh_Donetsk', 7.63766898342624e-06), ('http://dbpedia.org/resource/Clube_Atlético_Paranaense', 7.63766898342624e-06), ('http://dbpedia.org/resource/Alberta', 7.63766898342624e-06), ('http://dbpedia.org/resource/Blackpool_F.C.', 7.63766898342624e-06), ('http://dbpedia.org/resource/Kingdom_of_Yugoslavia', 7.63766898342624e-06), ('http://dbpedia.org/resource/Austria_national_football_team', 7.63766898342624e-06), ('http://dbpedia.org/resource/Real_Zaragoza', 7.637668983426242e-06), ('http://dbpedia.org/resource/Hannover_96', 7.637668983426242e-06), ('http://dbpedia.org/resource/Córdoba_CF', 7.637668983426242e-06), ('http://dbpedia.org/resource/FC_Carl_Zeiss_Jena', 7.637668983426242e-06), ('http://dbpedia.org/resource/Portugal_national_under-20_football_team', 7.637668983426242e-06), ('http://dbpedia.org/resource/Neuchâtel_Xamax', 7.637668983426242e-06), ('http://dbpedia.org/resource/Spain_national_under-18_football_team', 7.637668983426242e-06), ('http://dbpedia.org/resource/Sparta_Rotterdam', 7.637668983426242e-06), ('http://dbpedia.org/resource/Gimnàstic_de_Tarragona', 7.637668983426243e-06), ('http://dbpedia.org/resource/Mohanlal', 7.637668983426243e-06), ('http://dbpedia.org/resource/Gaziantepspor', 7.637668983426243e-06), ('http://dbpedia.org/resource/FC_Baltika_Kaliningrad', 7.637668983426243e-06), ('http://dbpedia.org/resource/Servette_FC', 7.637668983426243e-06), ('http://dbpedia.org/resource/FC_Basel', 7.637668983426243e-06), ('http://dbpedia.org/resource/FC_Sion', 7.637668983426243e-06), ('http://dbpedia.org/resource/F.C._Paços_de_Ferreira', 7.637668983426243e-06), ('http://dbpedia.org/resource/Clube_de_Regatas_do_Flamengo', 7.637668983426243e-06), ('http://dbpedia.org/resource/FK_Voždovac', 7.637668983426243e-06), ('http://dbpedia.org/resource/FK_Obilić', 7.637668983426243e-06), ('http://dbpedia.org/resource/Altrincham_F.C.', 7.637668983426243e-06), ('http://dbpedia.org/resource/Sweden_national_under-17_football_team', 7.637668983426243e-06), ('http://dbpedia.org/resource/FC_Dynamo_Kyiv', 7.637668983426245e-06), ('http://dbpedia.org/resource/Liverpool', 7.637668983426245e-06), ('http://dbpedia.org/resource/Alexander_Stubb', 7.637668983426245e-06), ('http://dbpedia.org/resource/Benevento_Calcio', 7.637668983426247e-06), ('http://dbpedia.org/resource/Reykjavík', 7.637668983426247e-06), ('http://dbpedia.org/resource/Gil_Vicente_F.C.', 7.637668983426247e-06)]\n"
     ]
    }
   ],
   "source": [
    "prt = PageRank(triples)"
   ]
  },
  {
   "cell_type": "code",
   "execution_count": 52,
   "metadata": {},
   "outputs": [
    {
     "data": {
      "text/plain": [
       "[('http://dbpedia.org/resource/Kerman_Province', 7.637668983426311e-06),\n",
       " ('http://dbpedia.org/resource/Toronto', 7.6376689834263e-06),\n",
       " ('http://dbpedia.org/resource/West_Azerbaijan_Province',\n",
       "  7.637668983426298e-06),\n",
       " ('http://dbpedia.org/resource/EMI', 7.637668983426298e-06),\n",
       " ('http://dbpedia.org/resource/Malaysia', 7.637668983426294e-06),\n",
       " ('http://dbpedia.org/resource/FC_Porto', 7.637668983426286e-06),\n",
       " ('http://dbpedia.org/resource/Michigan', 7.637668983426284e-06),\n",
       " ('http://dbpedia.org/resource/Rio_de_Janeiro', 7.637668983426284e-06),\n",
       " ('http://dbpedia.org/resource/Isfahan_Province', 7.637668983426282e-06),\n",
       " ('http://dbpedia.org/resource/Yazd_Province', 7.637668983426279e-06),\n",
       " ('http://dbpedia.org/resource/Ivory_Coast', 7.637668983426279e-06),\n",
       " ('http://dbpedia.org/resource/OFK_Beograd', 7.637668983426276e-06),\n",
       " ('http://dbpedia.org/resource/Criciúma_Esporte_Clube', 7.637668983426276e-06),\n",
       " ('http://dbpedia.org/resource/Wales', 7.637668983426276e-06),\n",
       " ('http://dbpedia.org/resource/PFC_Spartak_Nalchik', 7.637668983426274e-06),\n",
       " ('http://dbpedia.org/resource/Poland_national_football_team',\n",
       "  7.637668983426274e-06),\n",
       " ('http://dbpedia.org/resource/Sport_Club_Corinthians_Paulista',\n",
       "  7.637668983426274e-06),\n",
       " ('http://dbpedia.org/resource/PFC_Slavia_Sofia', 7.637668983426274e-06),\n",
       " ('http://dbpedia.org/resource/Thailand_national_football_team',\n",
       "  7.637668983426274e-06),\n",
       " ('http://dbpedia.org/resource/Ukraine_national_football_team',\n",
       "  7.637668983426274e-06)]"
      ]
     },
     "execution_count": 52,
     "metadata": {},
     "output_type": "execute_result"
    }
   ],
   "source": [
    "sort_pr = sorted(prt.entity_page_rank.items(), key = lambda p: p[1], reverse=True)\n",
    "sort_pr[:20]"
   ]
  }
 ],
 "metadata": {
  "kernelspec": {
   "display_name": "Python 3.8.2 64-bit",
   "language": "python",
   "name": "python38264bitddf82188d6514d27bed9483cf0fe1d09"
  },
  "language_info": {
   "codemirror_mode": {
    "name": "ipython",
    "version": 3
   },
   "file_extension": ".py",
   "mimetype": "text/x-python",
   "name": "python",
   "nbconvert_exporter": "python",
   "pygments_lexer": "ipython3",
   "version": "3.8.5"
  }
 },
 "nbformat": 4,
 "nbformat_minor": 4
}
